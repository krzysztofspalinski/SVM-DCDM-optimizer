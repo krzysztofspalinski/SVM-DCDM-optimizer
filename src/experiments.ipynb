{
 "cells": [
  {
   "cell_type": "code",
   "execution_count": 1,
   "metadata": {},
   "outputs": [
    {
     "output_type": "stream",
     "name": "stdout",
     "text": [
      "GurobiError: HostID mismatch (licensed to f3dbe6b0, hostid is 5d21c9ae)\n"
     ]
    }
   ],
   "source": [
    "from model import Model\n",
    "from dataset_loader import DatasetLoader\n",
    "from dcdm import DCDM\n",
    "\n",
    "import pandas as pd\n",
    "from sklearn.preprocessing import MinMaxScaler\n",
    "import gc\n",
    "from scipy import stats\n",
    "import pickle"
   ]
  },
  {
   "cell_type": "markdown",
   "metadata": {},
   "source": [
    "## 1. Loading datasets"
   ]
  },
  {
   "cell_type": "markdown",
   "metadata": {},
   "source": [
    "Checklist:\n",
    "- Each matrix should be of type `double`\n",
    "- Every `nan` should be removed\n",
    "- `y` should be flattened"
   ]
  },
  {
   "cell_type": "code",
   "execution_count": 2,
   "metadata": {},
   "outputs": [],
   "source": [
    "dl = DatasetLoader()"
   ]
  },
  {
   "cell_type": "code",
   "execution_count": 3,
   "metadata": {
    "scrolled": true
   },
   "outputs": [
    {
     "output_type": "execute_result",
     "data": {
      "text/plain": [
       "['a4a',\n",
       " 'a5a',\n",
       " 'a6a',\n",
       " 'a7a',\n",
       " 'a8a',\n",
       " 'a9a',\n",
       " 'australian_scale',\n",
       " 'mushrooms',\n",
       " 'phishing',\n",
       " 'real-sim',\n",
       " 'skin_nonskin']"
      ]
     },
     "metadata": {},
     "execution_count": 3
    }
   ],
   "source": [
    "dl.datasets"
   ]
  },
  {
   "cell_type": "markdown",
   "metadata": {},
   "source": [
    "## 2. Experiments"
   ]
  },
  {
   "cell_type": "code",
   "execution_count": 4,
   "metadata": {},
   "outputs": [],
   "source": [
    "all_datasets = dl.datasets\n",
    "optimizers = [\n",
    "    DCDM,\n",
    "    'cvxpy_MOSEK', \n",
    "    'cvxpy_SCS',\n",
    "]"
   ]
  },
  {
   "cell_type": "code",
   "execution_count": 5,
   "metadata": {},
   "outputs": [
    {
     "output_type": "stream",
     "name": "stdout",
     "text": [
      "Fitting australian_scale on optimizer cvxpy_SCS...\n",
      "Fitting mushrooms on optimizer cvxpy_SCS...\n",
      "Fitting phishing on optimizer cvxpy_SCS...\n"
     ]
    }
   ],
   "source": [
    "results = {}\n",
    "\n",
    "for opt in optimizers:\n",
    "    results[opt] = {}\n",
    "\n",
    "for i, dataset_name in enumerate(dl.datasets):\n",
    "    dataset_data = dl.get_dataset(dataset_name)\n",
    "    for opt in optimizers:\n",
    "        results[opt][dataset_name] = {}\n",
    "        print(f'Fitting {dataset_name} on optimizer {opt}...')\n",
    "        m = Model()\n",
    "        try:\n",
    "            result, df, time = m.fit(X=MinMaxScaler().fit_transform(dataset_data['X_train']), y=dataset_data['y_train'], optimizer=opt)\n",
    "        except Exception as e:\n",
    "            print(\"\\t\", optimizer, e.__doc__, str(e)[:20])\n",
    "            continue\n",
    "        results[opt][dataset_name]['result'] = result\n",
    "        results[opt][dataset_name]['df'] = df\n",
    "        results[opt][dataset_name]['time'] = time\n",
    "        with open(f'results_{i}.pickle', 'wb') as handle:\n",
    "            pickle.dump(results, handle, protocol=pickle.HIGHEST_PROTOCOL)\n",
    "    del dataset_data\n",
    "    gc.collect()\n",
    "\n",
    "with open('results.pickle', 'wb') as handle:\n",
    "    pickle.dump(results, handle, protocol=pickle.HIGHEST_PROTOCOL)"
   ]
  },
  {
   "cell_type": "code",
   "execution_count": 6,
   "metadata": {},
   "outputs": [
    {
     "output_type": "execute_result",
     "data": {
      "text/plain": [
       "{'cvxpy_SCS': {'australian_scale': {'result': True,\n",
       "   'df':      Iter       pri res       dua res       rel gap       pri obj  \\\n",
       "   0       0  5.290000e+18  9.200000e+18  8.100000e-01 -1.930000e+22   \n",
       "   1     100  2.190000e-01  1.640000e-01  2.130000e-03 -4.260000e+03   \n",
       "   2     200  4.830000e-02  2.710000e-02  6.410000e-04 -4.230000e+03   \n",
       "   3     300  1.750000e-02  1.800000e-02  8.110000e-04 -4.250000e+03   \n",
       "   4     400  5.480000e-03  4.040000e-02  2.540000e-04 -4.240000e+03   \n",
       "   5     500  1.090000e-02  1.090000e-02  6.530000e-04 -4.250000e+03   \n",
       "   6     600  1.510000e-01  3.150000e-01  6.040000e-04 -4.250000e+03   \n",
       "   7     700  3.140000e-02  5.680000e-02  5.820000e-05 -4.250000e+03   \n",
       "   8     800  4.720000e-02  1.680000e-01  2.280000e-03 -4.220000e+03   \n",
       "   9     900  1.170000e-02  1.280000e-02  3.890000e-04 -4.240000e+03   \n",
       "   10   1000  1.410000e-03  6.300000e-03  1.690000e-04 -4.250000e+03   \n",
       "   11   1100  1.710000e-02  2.480000e-02  3.900000e-05 -4.250000e+03   \n",
       "   12   1200  1.270000e-02  1.780000e-02  3.630000e-05 -4.250000e+03   \n",
       "   13   1300  4.490000e-03  1.350000e-02  2.070000e-04 -4.250000e+03   \n",
       "   14   1400  6.950000e-04  1.500000e-03  4.210000e-05 -4.250000e+03   \n",
       "   15   1500  4.700000e-03  1.340000e-02  2.950000e-04 -4.250000e+03   \n",
       "   16   1600  6.200000e-04  6.160000e-03  5.630000e-06 -4.250000e+03   \n",
       "   17   1700  3.500000e-04  1.550000e-03  2.640000e-05 -4.250000e+03   \n",
       "   18   1800  7.470000e-04  7.280000e-04  3.560000e-05 -4.250000e+03   \n",
       "   19   1900  6.640000e-04  2.790000e-03  2.490000e-05 -4.250000e+03   \n",
       "   20   2000  2.790000e-04  1.240000e-03  6.350000e-06 -4.250000e+03   \n",
       "   21   2100  5.470000e-04  6.140000e-04  2.620000e-06 -4.250000e+03   \n",
       "   22   2200  3.640000e-04  6.820000e-04  7.040000e-06 -4.250000e+03   \n",
       "   23   2300  2.840000e-04  1.460000e-03  1.040000e-05 -4.250000e+03   \n",
       "   24   2400  6.230000e-05  8.690000e-05  7.040000e-07 -4.250000e+03   \n",
       "   \n",
       "            dua obj       kap/tau  time (s)  \n",
       "   0  -2.030000e+21  3.250000e+23   0.00178  \n",
       "   1  -4.250000e+03  2.390000e-14   0.07780  \n",
       "   2  -4.240000e+03  3.990000e-14   0.15400  \n",
       "   3  -4.240000e+03  3.540000e-14   0.23600  \n",
       "   4  -4.240000e+03  5.360000e-14   0.31300  \n",
       "   5  -4.240000e+03  3.940000e-14   0.39100  \n",
       "   6  -4.240000e+03  7.110000e-14   0.46800  \n",
       "   7  -4.250000e+03  1.150000e-14   0.54300  \n",
       "   8  -4.240000e+03  3.770000e-15   0.62100  \n",
       "   9  -4.250000e+03  3.130000e-14   0.69600  \n",
       "   10 -4.250000e+03  3.470000e-14   0.77700  \n",
       "   11 -4.250000e+03  1.700000e-14   0.85500  \n",
       "   12 -4.250000e+03  1.990000e-14   0.92900  \n",
       "   13 -4.250000e+03  7.560000e-14   1.01000  \n",
       "   14 -4.250000e+03  2.110000e-14   1.08000  \n",
       "   15 -4.250000e+03  5.490000e-14   1.16000  \n",
       "   16 -4.250000e+03  3.400000e-15   1.26000  \n",
       "   17 -4.250000e+03  5.250000e-14   1.33000  \n",
       "   18 -4.250000e+03  2.830000e-14   1.41000  \n",
       "   19 -4.250000e+03  4.620000e-14   1.48000  \n",
       "   20 -4.250000e+03  1.870000e-14   1.56000  \n",
       "   21 -4.250000e+03  7.870000e-14   1.64000  \n",
       "   22 -4.250000e+03  7.530000e-14   1.71000  \n",
       "   23 -4.250000e+03  3.120000e-14   1.78000  \n",
       "   24 -4.250000e+03  1.850000e-14   1.86000  ,\n",
       "   'time': 1.86},\n",
       "  'mushrooms': {'result': True,\n",
       "   'df':     Iter       pri res       dua res   rel gap       pri obj       dua obj  \\\n",
       "   0      0  4.040000e+20  3.950000e+20  0.999000 -1.580000e+25 -9.400000e+21   \n",
       "   1    100  1.970000e-05  7.380000e-06  0.465000  8.180000e-01 -5.060000e-02   \n",
       "   2    200  3.900000e-06  2.500000e-06  0.069600 -7.730000e-02 -2.160000e-03   \n",
       "   3    300  8.480000e-07  4.070000e-07  0.012300  1.230000e-02 -9.840000e-05   \n",
       "   4    400  1.430000e-07  1.060000e-07  0.008570  8.640000e-03 -3.280000e-06   \n",
       "   5    500  2.710000e-08  1.350000e-08  0.000353  3.530000e-04 -1.080000e-07   \n",
       "   6    540  1.140000e-08  2.000000e-09  0.000098 -9.800000e-05 -2.250000e-08   \n",
       "   \n",
       "           kap/tau  time (s)  \n",
       "   0  5.610000e+26   0.00554  \n",
       "   1  4.750000e-11   0.37600  \n",
       "   2  3.280000e-11   0.73500  \n",
       "   3  5.750000e-11   1.10000  \n",
       "   4  1.130000e-11   1.46000  \n",
       "   5  3.150000e-11   1.82000  \n",
       "   6  2.690000e-11   1.96000  ,\n",
       "   'time': 1.96},\n",
       "  'phishing': {'result': True,\n",
       "   'df':     Iter       pri res       dua res   rel gap       pri obj       dua obj  \\\n",
       "   0      0  7.350000e+20  7.920000e+20  1.000000 -5.720000e+25 -7.390000e+21   \n",
       "   1     60  1.110000e-05  4.060000e-06  0.000014 -3.430000e+04 -3.430000e+04   \n",
       "   \n",
       "           kap/tau  time (s)  \n",
       "   0  3.680000e+26   0.00295  \n",
       "   1  3.660000e-11   0.23600  ,\n",
       "   'time': 0.236}}}"
      ]
     },
     "metadata": {},
     "execution_count": 6
    }
   ],
   "source": [
    "with open('results.pickle', 'rb') as handle:\n",
    "    results = pickle.load(handle)\n",
    "results"
   ]
  },
  {
   "cell_type": "code",
   "execution_count": null,
   "metadata": {},
   "outputs": [],
   "source": []
  },
  {
   "cell_type": "code",
   "execution_count": null,
   "metadata": {},
   "outputs": [],
   "source": []
  }
 ],
 "metadata": {
  "kernelspec": {
   "display_name": "Python 3",
   "language": "python",
   "name": "python3"
  },
  "language_info": {
   "codemirror_mode": {
    "name": "ipython",
    "version": 3
   },
   "file_extension": ".py",
   "mimetype": "text/x-python",
   "name": "python",
   "nbconvert_exporter": "python",
   "pygments_lexer": "ipython3",
   "version": "3.6.9-final"
  }
 },
 "nbformat": 4,
 "nbformat_minor": 4
}