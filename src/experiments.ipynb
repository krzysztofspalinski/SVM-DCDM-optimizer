{
 "cells": [
  {
   "cell_type": "code",
   "execution_count": 1,
   "metadata": {
    "pycharm": {
     "is_executing": false
    }
   },
   "outputs": [],
   "source": [
    "from model import Model\n",
    "import pandas as pd\n",
    "from sklearn.metrics import accuracy_score\n",
    "import numpy as np\n",
    "from sklearn.preprocessing import StandardScaler"
   ]
  },
  {
   "cell_type": "code",
   "execution_count": 1,
   "metadata": {
    "pycharm": {
     "is_executing": false
    }
   },
   "outputs": [],
   "source": []
  },
  {
   "cell_type": "markdown",
   "metadata": {},
   "source": [
    "## 1. Loading datasets"
   ]
  },
  {
   "cell_type": "markdown",
   "metadata": {},
   "source": [
    "Checklist:\n",
    "- Each matrix should be of type `double`\n",
    "- Every `nan` should be removed\n",
    "- `y` should be flattened"
   ]
  },
  {
   "cell_type": "markdown",
   "metadata": {},
   "source": [
    "### 1.1. A9A"
   ]
  },
  {
   "cell_type": "code",
   "execution_count": 2,
   "metadata": {
    "pycharm": {
     "is_executing": false
    }
   },
   "outputs": [],
   "source": [
    "a9a_train_raw = pd.read_csv('datasets/a9a-train.tsv', sep=' ', header=None).dropna()\n",
    "a9a_test_raw = pd.read_csv('datasets/a9a-test.tsv', sep=' ', header=None).dropna()"
   ]
  },
  {
   "cell_type": "code",
   "execution_count": 3,
   "metadata": {
    "pycharm": {
     "is_executing": false
    }
   },
   "outputs": [],
   "source": [
    "scaler = StandardScaler()\n",
    "\n",
    "X_a9a_train = a9a_train_raw[a9a_train_raw.columns[1:-1]].values.astype(np.double)[:1000]\n",
    "y_a9a_train = a9a_train_raw[a9a_train_raw.columns[0:1]].values.astype(np.double).flatten()[:1000]\n",
    "\n",
    "X_a9a_train = scaler.fit_transform(X_a9a_train)\n",
    "\n",
    "X_a9a_test = a9a_test_raw[a9a_test_raw.columns[1:-1]].values.astype(np.double)\n",
    "y_a9a_test = a9a_test_raw[a9a_test_raw.columns[0:1]].values.astype(np.double).flatten()\n",
    "\n",
    "X_a9a_test = scaler.transform(X_a9a_test)"
   ]
  },
  {
   "cell_type": "code",
   "execution_count": 4,
   "metadata": {
    "pycharm": {
     "is_executing": false
    }
   },
   "outputs": [
    {
     "data": {
      "text/plain": "(1000, 13)"
     },
     "metadata": {},
     "output_type": "execute_result",
     "execution_count": 4
    }
   ],
   "source": [
    "X_a9a_train.shape"
   ]
  },
  {
   "cell_type": "code",
   "execution_count": 4,
   "metadata": {
    "pycharm": {
     "is_executing": false
    }
   },
   "outputs": [],
   "source": []
  },
  {
   "cell_type": "code",
   "execution_count": 4,
   "metadata": {
    "pycharm": {
     "is_executing": false
    }
   },
   "outputs": [],
   "source": []
  },
  {
   "cell_type": "code",
   "execution_count": 4,
   "metadata": {
    "pycharm": {
     "is_executing": false
    }
   },
   "outputs": [],
   "source": []
  },
  {
   "cell_type": "code",
   "execution_count": 4,
   "metadata": {
    "pycharm": {
     "is_executing": false
    }
   },
   "outputs": [],
   "source": []
  },
  {
   "cell_type": "markdown",
   "metadata": {},
   "source": [
    "### 1.1. real-sim"
   ]
  },
  {
   "cell_type": "code",
   "execution_count": 4,
   "metadata": {
    "pycharm": {
     "is_executing": false
    }
   },
   "outputs": [],
   "source": []
  },
  {
   "cell_type": "code",
   "execution_count": 4,
   "metadata": {
    "pycharm": {
     "is_executing": false
    }
   },
   "outputs": [],
   "source": []
  },
  {
   "cell_type": "code",
   "execution_count": 4,
   "metadata": {
    "pycharm": {
     "is_executing": false
    }
   },
   "outputs": [],
   "source": []
  },
  {
   "cell_type": "code",
   "execution_count": 4,
   "metadata": {
    "pycharm": {
     "is_executing": false
    }
   },
   "outputs": [],
   "source": []
  },
  {
   "cell_type": "markdown",
   "metadata": {},
   "source": [
    "## 2. Experiments"
   ]
  },
  {
   "cell_type": "code",
   "execution_count": 5,
   "metadata": {
    "pycharm": {
     "is_executing": false
    }
   },
   "outputs": [],
   "source": [
    "m = Model()"
   ]
  },
  {
   "cell_type": "code",
   "execution_count": 6,
   "metadata": {
    "scrolled": true,
    "pycharm": {
     "is_executing": false
    }
   },
   "outputs": [
    {
     "name": "stdout",
     "text": [
      "Solve process failed.\n",
      "Reason: \"Terminated (maximum number of iterations reached).\"\n"
     ],
     "output_type": "stream"
    },
    {
     "data": {
      "text/plain": "     iteration         pcost         dcost           gap      pres    dres\n0            0 -4.898300e+02 -1.482600e+03  6.000000e+03  60.00000  3.0000\n1            1 -1.736800e+03 -3.805000e+03  5.000000e+03  40.00000  2.0000\n2            2 -5.435200e+03 -9.276000e+03  5.000000e+03  30.00000  2.0000\n3            3 -1.455200e+04 -1.787600e+04  3.000000e+03  20.00000  1.0000\n4            4 -8.057800e+04 -8.389800e+04  3.000000e+03  20.00000  1.0000\n..         ...           ...           ...           ...       ...     ...\n96          96 -2.283400e+12 -2.283400e+12  3.000000e-73   0.00030  0.0005\n97          97 -2.283300e+12 -2.283300e+12  2.000000e-74   0.00010  0.0004\n98          98 -2.283400e+12 -2.283400e+12  2.000000e-76   0.00030  0.0004\n99          99 -2.283400e+12 -2.283400e+12  7.000000e-78   0.00004  0.0005\n100        100 -2.283400e+12 -2.283400e+12  3.000000e-79   0.00020  0.0005\n\n[101 rows x 6 columns]",
      "text/html": "<div>\n<style scoped>\n    .dataframe tbody tr th:only-of-type {\n        vertical-align: middle;\n    }\n\n    .dataframe tbody tr th {\n        vertical-align: top;\n    }\n\n    .dataframe thead th {\n        text-align: right;\n    }\n</style>\n<table border=\"1\" class=\"dataframe\">\n  <thead>\n    <tr style=\"text-align: right;\">\n      <th></th>\n      <th>iteration</th>\n      <th>pcost</th>\n      <th>dcost</th>\n      <th>gap</th>\n      <th>pres</th>\n      <th>dres</th>\n    </tr>\n  </thead>\n  <tbody>\n    <tr>\n      <th>0</th>\n      <td>0</td>\n      <td>-4.898300e+02</td>\n      <td>-1.482600e+03</td>\n      <td>6.000000e+03</td>\n      <td>60.00000</td>\n      <td>3.0000</td>\n    </tr>\n    <tr>\n      <th>1</th>\n      <td>1</td>\n      <td>-1.736800e+03</td>\n      <td>-3.805000e+03</td>\n      <td>5.000000e+03</td>\n      <td>40.00000</td>\n      <td>2.0000</td>\n    </tr>\n    <tr>\n      <th>2</th>\n      <td>2</td>\n      <td>-5.435200e+03</td>\n      <td>-9.276000e+03</td>\n      <td>5.000000e+03</td>\n      <td>30.00000</td>\n      <td>2.0000</td>\n    </tr>\n    <tr>\n      <th>3</th>\n      <td>3</td>\n      <td>-1.455200e+04</td>\n      <td>-1.787600e+04</td>\n      <td>3.000000e+03</td>\n      <td>20.00000</td>\n      <td>1.0000</td>\n    </tr>\n    <tr>\n      <th>4</th>\n      <td>4</td>\n      <td>-8.057800e+04</td>\n      <td>-8.389800e+04</td>\n      <td>3.000000e+03</td>\n      <td>20.00000</td>\n      <td>1.0000</td>\n    </tr>\n    <tr>\n      <th>...</th>\n      <td>...</td>\n      <td>...</td>\n      <td>...</td>\n      <td>...</td>\n      <td>...</td>\n      <td>...</td>\n    </tr>\n    <tr>\n      <th>96</th>\n      <td>96</td>\n      <td>-2.283400e+12</td>\n      <td>-2.283400e+12</td>\n      <td>3.000000e-73</td>\n      <td>0.00030</td>\n      <td>0.0005</td>\n    </tr>\n    <tr>\n      <th>97</th>\n      <td>97</td>\n      <td>-2.283300e+12</td>\n      <td>-2.283300e+12</td>\n      <td>2.000000e-74</td>\n      <td>0.00010</td>\n      <td>0.0004</td>\n    </tr>\n    <tr>\n      <th>98</th>\n      <td>98</td>\n      <td>-2.283400e+12</td>\n      <td>-2.283400e+12</td>\n      <td>2.000000e-76</td>\n      <td>0.00030</td>\n      <td>0.0004</td>\n    </tr>\n    <tr>\n      <th>99</th>\n      <td>99</td>\n      <td>-2.283400e+12</td>\n      <td>-2.283400e+12</td>\n      <td>7.000000e-78</td>\n      <td>0.00004</td>\n      <td>0.0005</td>\n    </tr>\n    <tr>\n      <th>100</th>\n      <td>100</td>\n      <td>-2.283400e+12</td>\n      <td>-2.283400e+12</td>\n      <td>3.000000e-79</td>\n      <td>0.00020</td>\n      <td>0.0005</td>\n    </tr>\n  </tbody>\n</table>\n<p>101 rows × 6 columns</p>\n</div>"
     },
     "metadata": {},
     "output_type": "execute_result",
     "execution_count": 6
    }
   ],
   "source": [
    "m.fit(X=X_a9a_train, y=y_a9a_train, optimizer='cvxopt')"
   ]
  },
  {
   "cell_type": "code",
   "execution_count": null,
   "metadata": {
    "pycharm": {
     "is_executing": false
    }
   },
   "outputs": [],
   "source": [
    "y_hat = m.predict(X=X_a9a_test)"
   ]
  },
  {
   "cell_type": "code",
   "execution_count": null,
   "metadata": {},
   "outputs": [],
   "source": [
    "y_hat = m.predict(X=X_a9a_test)\n",
    "accuracy_score(y_hat, y_a9a_test)"
   ]
  },
  {
   "cell_type": "code",
   "execution_count": null,
   "metadata": {},
   "outputs": [],
   "source": [
    "len(y_hat)"
   ]
  },
  {
   "cell_type": "code",
   "execution_count": null,
   "metadata": {},
   "outputs": [],
   "source": [
    "np.sum(y_hat)"
   ]
  },
  {
   "cell_type": "code",
   "execution_count": null,
   "metadata": {},
   "outputs": [],
   "source": [
    "m.w"
   ]
  },
  {
   "cell_type": "code",
   "execution_count": 43,
   "metadata": {},
   "outputs": [
    {
     "data": {
      "text/plain": [
       "array([[ 0.1446335 ],\n",
       "       [-0.00059361],\n",
       "       [ 0.01777087],\n",
       "       [ 0.00663613],\n",
       "       [ 0.2088539 ],\n",
       "       [-0.27536726],\n",
       "       [-0.01244485],\n",
       "       [-0.12536744],\n",
       "       [-0.05347449],\n",
       "       [-0.03711447],\n",
       "       [ 0.26659523],\n",
       "       [-0.16539944],\n",
       "       [ 0.12054069]])"
      ]
     },
     "execution_count": 43,
     "metadata": {},
     "output_type": "execute_result"
    }
   ],
   "source": [
    "m.w"
   ]
  },
  {
   "cell_type": "code",
   "execution_count": null,
   "metadata": {},
   "outputs": [],
   "source": []
  }
 ],
 "metadata": {
  "kernelspec": {
   "display_name": "Python (ml-cpu)",
   "language": "python",
   "name": "ml-cpu"
  },
  "language_info": {
   "codemirror_mode": {
    "name": "ipython",
    "version": 3
   },
   "file_extension": ".py",
   "mimetype": "text/x-python",
   "name": "python",
   "nbconvert_exporter": "python",
   "pygments_lexer": "ipython3",
   "version": "3.6.10"
  },
  "pycharm": {
   "stem_cell": {
    "cell_type": "raw",
    "source": [],
    "metadata": {
     "collapsed": false
    }
   }
  }
 },
 "nbformat": 4,
 "nbformat_minor": 4
}