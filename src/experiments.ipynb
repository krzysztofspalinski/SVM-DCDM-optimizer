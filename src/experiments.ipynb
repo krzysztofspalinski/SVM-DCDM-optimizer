{
 "cells": [
  {
   "cell_type": "code",
   "execution_count": null,
   "metadata": {},
   "outputs": [],
   "source": [
    "from model import Model\n",
    "from dataset_loader import DatasetLoader\n",
    "from dcdm import DCDM\n",
    "\n",
    "import pandas as pd\n",
    "import gc\n",
    "\n",
    "import pickle"
   ]
  },
  {
   "cell_type": "markdown",
   "metadata": {},
   "source": [
    "## 1. Loading datasets"
   ]
  },
  {
   "cell_type": "markdown",
   "metadata": {},
   "source": [
    "Checklist:\n",
    "- Each matrix should be of type `double`\n",
    "- Every `nan` should be removed\n",
    "- `y` should be flattened"
   ]
  },
  {
   "cell_type": "code",
   "execution_count": null,
   "metadata": {},
   "outputs": [],
   "source": [
    "dl = DatasetLoader()"
   ]
  },
  {
   "cell_type": "code",
   "execution_count": null,
   "metadata": {
    "scrolled": true
   },
   "outputs": [],
   "source": [
    "dl.datasets"
   ]
  },
  {
   "cell_type": "markdown",
   "metadata": {},
   "source": [
    "## 2. Experiments"
   ]
  },
  {
   "cell_type": "code",
   "execution_count": null,
   "metadata": {},
   "outputs": [],
   "source": [
    "all_datasets = dl.datasets\n",
    "optimizers = [\n",
    "    DCDM, \n",
    "    'mosek', \n",
    "    'cvxpy_SCS'\n",
    "]"
   ]
  },
  {
   "cell_type": "code",
   "execution_count": null,
   "metadata": {},
   "outputs": [],
   "source": [
    "results = {}\n",
    "\n",
    "for opt in optimizers:\n",
    "    results[opt] = {}\n",
    "\n",
    "\n",
    "for i, dataset_name in enumerate(dl.datasets):\n",
    "    dataset_data = dl.get_dataset(dataset_name)\n",
    "    for opt in optimizers:\n",
    "        results[opt][dataset_name] = {}\n",
    "        print(f'Fitting {dataset_name} on optimizer {opt}...')\n",
    "        m = Model()\n",
    "        result, df, time = m.fit(X=dataset_data['X_train'], y=dataset_data['y_train'], optimizer=opt)\n",
    "        results[opt][dataset_name]['result'] = result\n",
    "        results[opt][dataset_name]['df'] = df\n",
    "        results[opt][dataset_name]['time'] = time\n",
    "    del dataset_data\n",
    "    gc.collect()\n",
    "    \n",
    "    with open(f'results_{i}.pickle', 'wb') as handle:\n",
    "        pickle.dump(results, handle, protocol=pickle.HIGHEST_PROTOCOL)\n",
    "\n",
    "with open('results.pickle', 'wb') as handle:\n",
    "    pickle.dump(results, handle, protocol=pickle.HIGHEST_PROTOCOL)"
   ]
  },
  {
   "cell_type": "code",
   "execution_count": null,
   "metadata": {},
   "outputs": [],
   "source": []
  },
  {
   "cell_type": "code",
   "execution_count": null,
   "metadata": {},
   "outputs": [],
   "source": []
  }
 ],
 "metadata": {
  "kernelspec": {
   "display_name": "Python 3",
   "language": "python",
   "name": "python3"
  },
  "language_info": {
   "codemirror_mode": {
    "name": "ipython",
    "version": 3
   },
   "file_extension": ".py",
   "mimetype": "text/x-python",
   "name": "python",
   "nbconvert_exporter": "python",
   "pygments_lexer": "ipython3",
   "version": "3.8.5"
  }
 },
 "nbformat": 4,
 "nbformat_minor": 4
}
